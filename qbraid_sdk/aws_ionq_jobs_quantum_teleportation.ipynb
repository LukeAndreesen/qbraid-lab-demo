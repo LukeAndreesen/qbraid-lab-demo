{
 "cells": [
  {
   "cell_type": "code",
   "execution_count": 1,
   "id": "8d4f7032-63b7-45e4-b7f6-3d6e3d467d90",
   "metadata": {},
   "outputs": [],
   "source": [
    "# This notebook is derived from Qiskit and includes modifications by qBraid.\n",
    "#\n",
    "# (C) Copyright IBM 2020.\n",
    "# (C) Copyright qBraid 2023.\n",
    "#\n",
    "# This code is licensed under the Apache License, Version 2.0. You may\n",
    "# obtain a copy of this license in the LICENSE.txt file in the root directory\n",
    "# of this source tree or at http://www.apache.org/licenses/LICENSE-2.0.\n",
    "#\n",
    "# Any modifications or derivative works of this code must retain this\n",
    "# copyright notice, and modified files need to carry a notice indicating\n",
    "# that they have been altered from the originals."
   ]
  },
  {
   "cell_type": "markdown",
   "id": "7b310509-15b1-4679-8a3d-6ca9f4f17492",
   "metadata": {},
   "source": [
    "# qBraid-SDK Braket on IonQ device Tutorial: Quantum Teleportation "
   ]
  },
  {
   "cell_type": "markdown",
   "id": "2185bb76-2ab7-40e7-86e4-f22b7970aa2b",
   "metadata": {},
   "source": [
    "Per usual, install the qBraid SDK environment on Lab, and use the qBraid CLI to enable [Quantum Jobs](https://docs.qbraid.com/en/latest/lab/quantumjobs.html)"
   ]
  },
  {
   "cell_type": "code",
   "execution_count": 2,
   "id": "485931da-0c44-447d-9c28-49c8bc63f182",
   "metadata": {},
   "outputs": [
    {
     "name": "stdout",
     "output_type": "stream",
     "text": [
      "\u001b[0;35mSuccessfully enabled qBraid Quantum Jobs in the \u001b[1;35mqbraid_sdk\u001b[0m\u001b[0;35m environment.\u001b[0m\n",
      "\u001b[0;35mEvery \u001b[1;35mAWS\u001b[0m\u001b[0;35m job you run will now be submitted through the qBraid API, so no access keys/tokens are necessary. \u001b[0m\n",
      "\n",
      "\u001b[0;35mTo disable, run:\u001b[0m `qbraid jobs disable qbraid_sdk`\n"
     ]
    }
   ],
   "source": [
    "!qbraid jobs enable qbraid_sdk"
   ]
  },
  {
   "cell_type": "markdown",
   "id": "b5b3a0d9-3dba-41c2-bd80-9fae69666ecd",
   "metadata": {},
   "source": [
    "You can check that the `jobs` keyword next to the qBraid SDK environment is now green.\""
   ]
  },
  {
   "cell_type": "code",
   "execution_count": 3,
   "id": "e72b7451-b77f-4f96-8a82-ded77c4df11c",
   "metadata": {},
   "outputs": [
    {
     "name": "stdout",
     "output_type": "stream",
     "text": [
      "# installed environments:\n",
      "#\n",
      "default                  \u001b[0;31mjobs\u001b[0m  /opt/.qbraid/environments/qbraid_000000\n",
      "aws_braket               \u001b[0;32mjobs\u001b[0m  /home/jovyan/.qbraid/environments/aws_braket_kwx6dl\n",
      "qiskit                   \u001b[0;31mjobs\u001b[0m  /home/jovyan/.qbraid/environments/qiskit_i5o7if\n",
      "qiskit_gpu                     /home/jovyan/.qbraid/environments/qiskit_gpu_tyt64d\n",
      "tensorflow                     /home/jovyan/.qbraid/environments/tensorflow_uorhf3\n",
      "qbraid_sdk               \u001b[0;32mjobs\u001b[0m  /home/jovyan/.qbraid/environments/qbraid_sdk_9j9sjy\n",
      "pyquil                         /home/jovyan/.qbraid/environments/pyquil_i4l3hx\n",
      "mitiq                          /home/jovyan/.qbraid/environments/mitiq_7rq6q3\n",
      "\n"
     ]
    }
   ],
   "source": [
    "!qbraid envs list"
   ]
  },
  {
   "cell_type": "markdown",
   "id": "c1ae7c7f-45b4-4ca7-848a-ea4577d07371",
   "metadata": {},
   "source": [
    "It's important to import the qBraid SDK only *after* you have enabled quantum jobs."
   ]
  },
  {
   "cell_type": "code",
   "execution_count": 4,
   "id": "b7f29a4c-03b2-4b01-981e-ea8545ce4e65",
   "metadata": {},
   "outputs": [
    {
     "data": {
      "text/plain": [
       "'0.4.5'"
      ]
     },
     "execution_count": 4,
     "metadata": {},
     "output_type": "execute_result"
    }
   ],
   "source": [
    "import qbraid\n",
    "\n",
    "qbraid.__version__"
   ]
  },
  {
   "cell_type": "markdown",
   "id": "d8db962e-b6c2-414b-9920-dd84d3931e0d",
   "metadata": {},
   "source": [
    "# Creating the Circuit"
   ]
  },
  {
   "cell_type": "code",
   "execution_count": 5,
   "id": "feec7302-e977-479d-9159-84b394dca963",
   "metadata": {},
   "outputs": [],
   "source": [
    "from qiskit import QuantumCircuit"
   ]
  },
  {
   "cell_type": "markdown",
   "id": "68903de2-fc1d-436a-b38d-656bcfbddc4d",
   "metadata": {},
   "source": [
    "The code for this circuit was taken from IBMs Quantum Teleportation tutorial. Check out their [tutorial](https://www.youtube.com/watch?v=mMwovHK2NrE&t) for a more in depth explanation. The idea is that we want to transport a qubit state from one person (Alice) to another (Bob). We utlizie an entangled Bell state to do so."
   ]
  },
  {
   "cell_type": "code",
   "execution_count": 6,
   "id": "b3d8cd6b-fd28-4843-956f-6c0202aa9191",
   "metadata": {},
   "outputs": [
    {
     "data": {
      "text/plain": [
       "<qiskit.circuit.instructionset.InstructionSet at 0x7f97b58e47f0>"
      ]
     },
     "execution_count": 6,
     "metadata": {},
     "output_type": "execute_result"
    }
   ],
   "source": [
    "qiskit_circuit = QuantumCircuit(3, 3)\n",
    "qiskit_circuit.x(0)\n",
    "# Controlled Hadamard gates are not part of the quantum gates supported by the Harmony device\n",
    "qiskit_circuit.ch(0, 1)\n",
    "qiskit_circuit.ch(0, 1)\n",
    "# ----\n",
    "qiskit_circuit.barrier()\n",
    "qiskit_circuit.h(1)\n",
    "qiskit_circuit.cx(1, 2)\n",
    "qiskit_circuit.barrier()\n",
    "qiskit_circuit.cx(0, 1)\n",
    "qiskit_circuit.h(0)\n",
    "qiskit_circuit.barrier()\n",
    "qiskit_circuit.measure([0, 1], [0, 1])\n",
    "qiskit_circuit.barrier()\n",
    "qiskit_circuit.cx(1, 2)\n",
    "qiskit_circuit.cz(0, 2)\n",
    "qiskit_circuit.measure([2], [2])"
   ]
  },
  {
   "cell_type": "code",
   "execution_count": 7,
   "id": "5870442b-46dd-4d5a-9654-6947cc8a5a1b",
   "metadata": {},
   "outputs": [
    {
     "data": {
      "text/html": [
       "<pre style=\"word-wrap: normal;white-space: pre;background: #fff0;line-height: 1.1;font-family: &quot;Courier New&quot;,Courier,monospace\">     ┌───┐           ░            ░      ┌───┐ ░ ┌─┐    ░            \n",
       "q_0: ┤ X ├──■────■───░────────────░───■──┤ H ├─░─┤M├────░───────■────\n",
       "     └───┘┌─┴─┐┌─┴─┐ ░ ┌───┐      ░ ┌─┴─┐└───┘ ░ └╥┘┌─┐ ░       │    \n",
       "q_1: ─────┤ H ├┤ H ├─░─┤ H ├──■───░─┤ X ├──────░──╫─┤M├─░───■───┼────\n",
       "          └───┘└───┘ ░ └───┘┌─┴─┐ ░ └───┘      ░  ║ └╥┘ ░ ┌─┴─┐ │ ┌─┐\n",
       "q_2: ────────────────░──────┤ X ├─░────────────░──╫──╫──░─┤ X ├─■─┤M├\n",
       "                     ░      └───┘ ░            ░  ║  ║  ░ └───┘   └╥┘\n",
       "c: 3/═════════════════════════════════════════════╩══╩═════════════╩═\n",
       "                                                  0  1             2 </pre>"
      ],
      "text/plain": [
       "     ┌───┐           ░            ░      ┌───┐ ░ ┌─┐    ░            \n",
       "q_0: ┤ X ├──■────■───░────────────░───■──┤ H ├─░─┤M├────░───────■────\n",
       "     └───┘┌─┴─┐┌─┴─┐ ░ ┌───┐      ░ ┌─┴─┐└───┘ ░ └╥┘┌─┐ ░       │    \n",
       "q_1: ─────┤ H ├┤ H ├─░─┤ H ├──■───░─┤ X ├──────░──╫─┤M├─░───■───┼────\n",
       "          └───┘└───┘ ░ └───┘┌─┴─┐ ░ └───┘      ░  ║ └╥┘ ░ ┌─┴─┐ │ ┌─┐\n",
       "q_2: ────────────────░──────┤ X ├─░────────────░──╫──╫──░─┤ X ├─■─┤M├\n",
       "                     ░      └───┘ ░            ░  ║  ║  ░ └───┘   └╥┘\n",
       "c: 3/═════════════════════════════════════════════╩══╩═════════════╩═\n",
       "                                                  0  1             2 "
      ]
     },
     "execution_count": 7,
     "metadata": {},
     "output_type": "execute_result"
    }
   ],
   "source": [
    "from qbraid.interface import circuit_drawer\n",
    "\n",
    "circuit_drawer(qiskit_circuit)"
   ]
  },
  {
   "cell_type": "markdown",
   "id": "335e23b4-861d-4aa8-a9a8-14f08f273b0c",
   "metadata": {},
   "source": [
    "Notice that we've added two controlled-Hadamard gates: applying two controlled-Hadamards back to back is equivalent to the identity gate. Theoretically, this is the same circuit, however controlled-Hadamard gates are not supported on the IonQ computer. We will see how we can leverage qBraid's capabilities to still run this circuit on IonQ's computer."
   ]
  },
  {
   "cell_type": "markdown",
   "id": "dad21987-cabe-4b59-b7cc-c8866ed2b644",
   "metadata": {},
   "source": [
    "We can observe the supported gate set with the following:"
   ]
  },
  {
   "cell_type": "code",
   "execution_count": 8,
   "id": "ff80aae8-a99a-45b1-9baa-97f8c613bf46",
   "metadata": {},
   "outputs": [
    {
     "name": "stdout",
     "output_type": "stream",
     "text": [
      "Quantum Gates supported by Harmony:\n",
      " ['x', 'y', 'z', 'rx', 'ry', 'rz', 'h', 'cnot', 's', 'si', 't', 'ti', 'v', 'vi', 'xx', 'yy', 'zz', 'swap']\n",
      "\n"
     ]
    }
   ],
   "source": [
    "from braket.aws import AwsDevice\n",
    "\n",
    "aws_device = AwsDevice(\"arn:aws:braket:us-east-1::device/qpu/ionq/Harmony\")\n",
    "\n",
    "# show supported quantum operations (supported gates for this device)\n",
    "device_operations = aws_device.properties.dict()[\"action\"][\n",
    "    \"braket.ir.openqasm.program\"\n",
    "][\"supportedOperations\"]\n",
    "print(f\"Quantum Gates supported by {aws_device.name}:\\n {device_operations}\\n\")"
   ]
  },
  {
   "cell_type": "markdown",
   "id": "cab57372-ff2c-4b51-84da-fd7b6c7a91cc",
   "metadata": {},
   "source": [
    "We initially programmed this circuit in qiskit, but we want to test braket circuit capabilties on the IonQ computer. Thus, we can use qBraid's circuit wrapper to convert the circuit to braket:"
   ]
  },
  {
   "cell_type": "code",
   "execution_count": 9,
   "id": "c8a4c361-ebec-47d5-b35d-6322c4af558f",
   "metadata": {},
   "outputs": [],
   "source": [
    "from qbraid import circuit_wrapper"
   ]
  },
  {
   "cell_type": "code",
   "execution_count": 10,
   "id": "597b3f49-da84-4cf5-adf9-77f13107e5eb",
   "metadata": {},
   "outputs": [
    {
     "name": "stdout",
     "output_type": "stream",
     "text": [
      "T  : |0|1|2|3|4|5|6|7|\n",
      "                      \n",
      "q0 : -X-C-C-----C-H-C-\n",
      "        | |     |   | \n",
      "q1 : ---H-H-H-C-X-C-|-\n",
      "              |   | | \n",
      "q2 : ---------X---X-Z-\n",
      "\n",
      "T  : |0|1|2|3|4|5|6|7|\n"
     ]
    }
   ],
   "source": [
    "qbraid_circuit = circuit_wrapper(qiskit_circuit)\n",
    "braket_circuit = qbraid_circuit.transpile(\"braket\")\n",
    "\n",
    "circuit_drawer(braket_circuit)"
   ]
  },
  {
   "cell_type": "markdown",
   "id": "9b8803e9-e01e-4709-8794-166930701b0c",
   "metadata": {},
   "source": [
    "# Attemping to Run the Circuit without qBraid"
   ]
  },
  {
   "cell_type": "code",
   "execution_count": 11,
   "id": "44721c7a-c516-4877-abdb-de7ce18caefb",
   "metadata": {},
   "outputs": [
    {
     "name": "stdout",
     "output_type": "stream",
     "text": [
      "An error occurred (ValidationException) when calling the CreateQuantumTask operation (reached max retries: 4): [line 5] arbitrary unitary gates are not supported on the requested device\n"
     ]
    }
   ],
   "source": [
    "try:\n",
    "    job = aws_device.run(braket_circuit, shots=100)\n",
    "except Exception as err:\n",
    "    print(err)"
   ]
  },
  {
   "cell_type": "markdown",
   "id": "ed45ca59-8835-4ef7-aa2a-c1e67b1dfa31",
   "metadata": {},
   "source": [
    "## Running on an IonQ Device via qBraid"
   ]
  },
  {
   "cell_type": "markdown",
   "id": "93ed5968-d3cb-40b3-9db2-6cd102f755f1",
   "metadata": {},
   "source": [
    "Let's check which devices (specifically IonQ ones) are online, and also find their device IDs:"
   ]
  },
  {
   "cell_type": "code",
   "execution_count": 12,
   "id": "372995f5-fb4d-4835-a685-4e10ef399874",
   "metadata": {},
   "outputs": [],
   "source": [
    "from qbraid import get_devices"
   ]
  },
  {
   "cell_type": "code",
   "execution_count": 13,
   "id": "48a9c158-0502-4ef6-a6c1-698f98770adb",
   "metadata": {},
   "outputs": [
    {
     "data": {
      "text/html": [
       "<h3>Supported Devices</h3><table><tr>\n",
       "    <th style='text-align:left'>Provider</th>\n",
       "    <th style='text-align:left'>Name</th>\n",
       "    <th style='text-align:left'>qBraid ID</th>\n",
       "    <th style='text-align:left'>Status</th></tr>\n",
       "    <tr>\n",
       "        <td style='text-align:left'>IonQ</td>\n",
       "        <td style='text-align:left'>Aria-1</td>\n",
       "        <td style='text-align:left'><code>aws_ionq_aria1</code></td>\n",
       "        <td><span style='color:green'>●</span></td></tr>\n",
       "        <tr>\n",
       "        <td style='text-align:left'>IonQ</td>\n",
       "        <td style='text-align:left'>Harmony</td>\n",
       "        <td style='text-align:left'><code>aws_ionq_harmony</code></td>\n",
       "        <td><span style='color:green'>●</span></td></tr>\n",
       "        <tr><td colspan='4'; style='text-align:right'>Device status updated 0 minutes ago</td></tr></table>"
      ],
      "text/plain": [
       "<IPython.core.display.HTML object>"
      ]
     },
     "metadata": {},
     "output_type": "display_data"
    }
   ],
   "source": [
    "get_devices(filters={\"provider\": \"IonQ\"})"
   ]
  },
  {
   "cell_type": "markdown",
   "id": "5e5b1c0a-2465-409e-a1ab-476340d63576",
   "metadata": {},
   "source": [
    "Let's check how many credits we have left:"
   ]
  },
  {
   "cell_type": "code",
   "execution_count": 14,
   "id": "eed2ba9b-40d8-48b9-bbf2-1d5cf1ec7e63",
   "metadata": {},
   "outputs": [
    {
     "name": "stdout",
     "output_type": "stream",
     "text": [
      "\u001b[0;35mYou have \u001b[0m955.60\u001b[0;35m remaining qBraid credits.\u001b[0m\n"
     ]
    }
   ],
   "source": [
    "!qbraid jobs get-credits"
   ]
  },
  {
   "cell_type": "markdown",
   "id": "bfcbbad1-31cd-4a42-863e-bb7565d99571",
   "metadata": {},
   "source": [
    "In this tutorial we'll use IonQ's Harmony computer. Now we can use qBraid's [device wrapper](https://docs.qbraid.com/en/latest/sdk/devices.html#device-wrapper) to run a job on an IonQ device. The device wrapper adds a layer of abstraction, allowing us to run a braket circuit on an IonQ quantum computer. "
   ]
  },
  {
   "cell_type": "code",
   "execution_count": 15,
   "id": "9909748c-881a-4d18-b430-d90cca1ecc72",
   "metadata": {},
   "outputs": [],
   "source": [
    "from qbraid import device_wrapper"
   ]
  },
  {
   "cell_type": "code",
   "execution_count": 16,
   "id": "4582374f-33a5-4bbb-bcb7-3772a3a3e967",
   "metadata": {},
   "outputs": [],
   "source": [
    "ibmq_sim = device_wrapper(\"ibm_q_qasm_simulator\")\n",
    "ionq_device = device_wrapper(\"aws_ionq_harmony\")\n",
    "\n",
    "# # can also use vendor deviceArn / backend ID directly\n",
    "# ibmq_sim = device_wrapper(\"ibmq_qasm_simulator\")\n",
    "# ionq_device = device_wrapper(\"arn:aws:braket:us-east-1::device/qpu/ionq/Harmony\")"
   ]
  },
  {
   "cell_type": "markdown",
   "id": "c429b4af-6668-473d-b15c-ff6cce29dc89",
   "metadata": {},
   "source": [
    "Feel free to change the number of shots to reduce the number of qBraid credits:"
   ]
  },
  {
   "cell_type": "code",
   "execution_count": 17,
   "id": "2c6b982e-ea85-480f-a44d-5c2f3cc74844",
   "metadata": {},
   "outputs": [
    {
     "data": {
      "text/plain": [
       "<JobStatus.QUEUED: 'job is queued'>"
      ]
     },
     "execution_count": 17,
     "metadata": {},
     "output_type": "execute_result"
    }
   ],
   "source": [
    "# running qiskit circuit on AWS device\n",
    "ionq_job = ionq_device.run(qiskit_circuit, shots=100)\n",
    "ionq_job.status()"
   ]
  },
  {
   "cell_type": "code",
   "execution_count": 20,
   "id": "42446731-3b82-423d-9af3-1e8ece783c42",
   "metadata": {},
   "outputs": [
    {
     "data": {
      "text/plain": [
       "<JobStatus.COMPLETED: 'job has successfully run'>"
      ]
     },
     "execution_count": 20,
     "metadata": {},
     "output_type": "execute_result"
    }
   ],
   "source": [
    "# comparing against simulator result run on IBM\n",
    "ibm_job = ibmq_sim.run(qiskit_circuit, shots=100)\n",
    "ibm_job.status()"
   ]
  },
  {
   "cell_type": "code",
   "execution_count": 21,
   "id": "f8d12a53-d196-4958-9375-f22b9ce0c428",
   "metadata": {},
   "outputs": [
    {
     "name": "stdout",
     "output_type": "stream",
     "text": [
      "{'100': 27, '101': 29, '110': 27, '111': 17}\n"
     ]
    }
   ],
   "source": [
    "simulator_result = ibm_job.result()\n",
    "simulator_counts = simulator_result.measurement_counts()\n",
    "print(simulator_counts)"
   ]
  },
  {
   "cell_type": "code",
   "execution_count": 22,
   "id": "19d2f2de-43ca-47d3-976b-55c339d25d10",
   "metadata": {},
   "outputs": [
    {
     "data": {
      "image/png": "[encoded data removed]",
      "text/plain": [
       "<Figure size 700x500 with 1 Axes>"
      ]
     },
     "execution_count": 22,
     "metadata": {},
     "output_type": "execute_result"
    }
   ],
   "source": [
    "simulator_result.plot_counts()"
   ]
  },
  {
   "cell_type": "code",
   "execution_count": 24,
   "id": "f0e06da3-4fe2-4644-a06b-cec1376ab02b",
   "metadata": {},
   "outputs": [
    {
     "name": "stdout",
     "output_type": "stream",
     "text": [
      "{'000': 3, '001': 2, '100': 31, '101': 22, '110': 26, '111': 16}\n"
     ]
    }
   ],
   "source": [
    "ionq_result = ionq_job.result()\n",
    "ionq_counts = ionq_result.measurement_counts()\n",
    "print(ionq_counts)"
   ]
  },
  {
   "cell_type": "code",
   "execution_count": 25,
   "id": "535bed02-ca5b-4f5e-ba87-95c451b8a457",
   "metadata": {},
   "outputs": [
    {
     "data": {
      "image/png": "[encoded data removed]",
      "text/plain": [
       "<Figure size 700x500 with 1 Axes>"
      ]
     },
     "execution_count": 25,
     "metadata": {},
     "output_type": "execute_result"
    }
   ],
   "source": [
    "ionq_result.plot_counts()"
   ]
  },
  {
   "cell_type": "markdown",
   "id": "58f06d18-c896-4382-ac83-ce8617f5dbd7",
   "metadata": {},
   "source": [
    "We see that we've correctly teleported the state, since ``c2`` (the leading qubit) is far more likely to be 1, and we teleported the $|1\\rangle$ state!"
   ]
  }
 ],
 "metadata": {
  "kernelspec": {
   "display_name": "Python 3 [qBraid]",
   "language": "python",
   "name": "python3_qbraid_sdk_9j9sjy"
  },
  "language_info": {
   "codemirror_mode": {
    "name": "ipython",
    "version": 3
   },
   "file_extension": ".py",
   "mimetype": "text/x-python",
   "name": "python",
   "nbconvert_exporter": "python",
   "pygments_lexer": "ipython3",
   "version": "3.9.12"
  }
 },
 "nbformat": 4,
 "nbformat_minor": 5
}
